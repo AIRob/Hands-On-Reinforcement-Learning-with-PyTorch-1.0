{
 "cells": [
  {
   "cell_type": "markdown",
   "metadata": {
    "toc": true
   },
   "source": [
    "<h1>Table of Contents<span class=\"tocSkip\"></span></h1>\n",
    "<div class=\"toc\"><ul class=\"toc-item\"><li><span><a href=\"#define-policy---base-class\" data-toc-modified-id=\"define-policy---base-class-1\"><span class=\"toc-item-num\">1&nbsp;&nbsp;</span>define policy - base class</a></span></li><li><span><a href=\"#define-random-policy\" data-toc-modified-id=\"define-random-policy-2\"><span class=\"toc-item-num\">2&nbsp;&nbsp;</span>define random policy</a></span></li><li><span><a href=\"#define-base-class-for-Q-Learning\" data-toc-modified-id=\"define-base-class-for-Q-Learning-3\"><span class=\"toc-item-num\">3&nbsp;&nbsp;</span>define base class for Q Learning</a></span></li><li><span><a href=\"#define-Q-Table-Policy\" data-toc-modified-id=\"define-Q-Table-Policy-4\"><span class=\"toc-item-num\">4&nbsp;&nbsp;</span>define Q Table Policy</a></span></li><li><span><a href=\"#Demo-of-Explore-Rate-Decay\" data-toc-modified-id=\"Demo-of-Explore-Rate-Decay-5\"><span class=\"toc-item-num\">5&nbsp;&nbsp;</span>Demo of Explore Rate Decay</a></span></li><li><span><a href=\"#Define-Experiment-Function\" data-toc-modified-id=\"Define-Experiment-Function-6\"><span class=\"toc-item-num\">6&nbsp;&nbsp;</span>Define Experiment Function</a></span></li><li><span><a href=\"#Train-and-run-policy-for-Taxi-V2\" data-toc-modified-id=\"Train-and-run-policy-for-Taxi-V2-7\"><span class=\"toc-item-num\">7&nbsp;&nbsp;</span>Train and run policy for Taxi V2</a></span></li><li><span><a href=\"#Train-and-run-policy-for-FrozenLake\" data-toc-modified-id=\"Train-and-run-policy-for-FrozenLake-8\"><span class=\"toc-item-num\">8&nbsp;&nbsp;</span>Train and run policy for FrozenLake</a></span></li></ul></div>"
   ]
  },
  {
   "cell_type": "code",
   "execution_count": 1,
   "metadata": {},
   "outputs": [
    {
     "name": "stdout",
     "output_type": "stream",
     "text": [
      "OpenAI Gym: 0.10.9\n",
      "NumPy: 1.15.4\n"
     ]
    }
   ],
   "source": [
    "import gym\n",
    "print('OpenAI Gym:',gym.__version__)\n",
    "import numpy as np\n",
    "print('NumPy:',np.__version__)\n",
    "import matplotlib.pyplot as plt"
   ]
  },
  {
   "cell_type": "markdown",
   "metadata": {},
   "source": [
    "## define policy - base class"
   ]
  },
  {
   "cell_type": "code",
   "execution_count": 2,
   "metadata": {},
   "outputs": [],
   "source": [
    "class policy():\n",
    "    def __init__(self):\n",
    "        self.debug = False\n",
    "        self.learn_mode = False"
   ]
  },
  {
   "cell_type": "markdown",
   "metadata": {},
   "source": [
    "## define random policy"
   ]
  },
  {
   "cell_type": "code",
   "execution_count": 3,
   "metadata": {},
   "outputs": [],
   "source": [
    "class policy_random(policy):\n",
    "    def __init__(self, nA):\n",
    "        super().__init__()\n",
    "        self.nA = nA\n",
    "        self.__name__ = 'random'\n",
    "\n",
    "    def get_action(self, s=None):\n",
    "        return np.random.choice(self.nA)\n",
    "\n",
    "    def update(self, s=None,a=None,r=None,s_=None, done=None):\n",
    "        pass # the policy does not learn"
   ]
  },
  {
   "cell_type": "markdown",
   "metadata": {},
   "source": [
    "## define base class for Q Learning"
   ]
  },
  {
   "cell_type": "code",
   "execution_count": 4,
   "metadata": {},
   "outputs": [],
   "source": [
    "class policy_q(policy):\n",
    "    def __init__(self,\n",
    "                 nS,\n",
    "                 nA,\n",
    "                 discount_rate=0.9,\n",
    "                 learning_rate=0.8,\n",
    "                 explore_rate_max=0.9,\n",
    "                 explore_rate_min=0.01,\n",
    "                 explore_rate_decay=0.005):\n",
    "        super().__init__()\n",
    "        self.dr = discount_rate\n",
    "        self.lr = learning_rate\n",
    "        self.er = explore_rate_max\n",
    "        self.er_max = explore_rate_max\n",
    "        self.er_min = explore_rate_min\n",
    "        self.er_decay = explore_rate_decay\n",
    "\n",
    "        if not isinstance(nS, np.ndarray):\n",
    "            self.nS = np.array(nS)\n",
    "        else:\n",
    "            self.nS = nS\n",
    "        if not isinstance(nA, np.ndarray):\n",
    "            self.nA = np.array(nA)\n",
    "        else:\n",
    "            self.nA = nA\n",
    "\n",
    "    def max_er(self, er_max=None):\n",
    "        if er_max is not None:\n",
    "            self.er_max = er_max\n",
    "        self.er = self.er_max\n",
    "        return self.er\n",
    "\n",
    "    def zero_er(self):\n",
    "        self.er = 0.0\n",
    "        return self.er\n",
    "\n",
    "    def decay_er(self, step):\n",
    "        self.er = self.er_min + (\n",
    "            self.er_max - self.er_min) * np.exp(\n",
    "            -self.er_decay * step)\n",
    "        if self.debug:\n",
    "            print('New er after decay:', self.er)\n",
    "        return self.er"
   ]
  },
  {
   "cell_type": "markdown",
   "metadata": {},
   "source": [
    "## define Q Table Policy"
   ]
  },
  {
   "cell_type": "code",
   "execution_count": 5,
   "metadata": {},
   "outputs": [],
   "source": [
    "class policy_q_table(policy_q):\n",
    "    def __init__(self,\n",
    "                 nS,\n",
    "                 nA,\n",
    "                 discount_rate=0.9,\n",
    "                 learning_rate=0.8,\n",
    "                 explore_rate_max=0.9,\n",
    "                 explore_rate_min=0.01,\n",
    "                 explore_rate_decay=0.005):\n",
    "        super().__init__(nS, nA, discount_rate, learning_rate,\n",
    "                         explore_rate_max, explore_rate_min,\n",
    "                         explore_rate_decay)\n",
    "\n",
    "        self.__name__ = 'Q_Table'\n",
    "\n",
    "        # create a q-table of shape (S X A)\n",
    "        # representing S X A -> R\n",
    "        self.nQ = np.append(self.nS, self.nA)\n",
    "        self.q_table = np.zeros(shape=self.nQ)\n",
    "\n",
    "    def get_action(self, s):\n",
    "        # Exploration - Select a random action\n",
    "        if self.learn_mode and np.random.random() < self.er:\n",
    "            a = np.random.choice(self.nA)\n",
    "            if self.debug:\n",
    "                print('Selecting random action ', a)\n",
    "        # Exploitation - Select the action with the highest q\n",
    "        else:\n",
    "            a = self.q_table[s].argmax()\n",
    "            if self.debug:\n",
    "                print('Selecting best action ', a)\n",
    "        return a\n",
    "\n",
    "    def update(self, s,a,r,s_,done):\n",
    "        v_s_ = self.q_table[s_].max()\n",
    "        e_q_sa = r + self.dr * v_s_\n",
    "        i = tuple(np.append(s, a))\n",
    "        self.q_table[i] += self.lr * (e_q_sa - self.q_table[i])\n",
    "        if self.debug:\n",
    "            print('Updated Q Table')\n",
    "            print(self.q_table)"
   ]
  },
  {
   "cell_type": "markdown",
   "metadata": {},
   "source": [
    "## Demo of Explore Rate Decay"
   ]
  },
  {
   "cell_type": "code",
   "execution_count": 6,
   "metadata": {},
   "outputs": [
    {
     "name": "stdout",
     "output_type": "stream",
     "text": [
      "0.9\n",
      "0.8955611064814872\n",
      "0.8911443520367597\n",
      "0.8867496262467258\n",
      "0.8823768192430121\n",
      "0.878025821705216\n",
      "0.8736965248581723\n",
      "0.8693888204692342\n",
      "0.8651026008455677\n",
      "0.860837758831459\n"
     ]
    }
   ],
   "source": [
    "# remove the seeds to get random plays everytime\n",
    "np.random.seed(123)\n",
    "policy_qt = policy_q_table(2,2)\n",
    "\n",
    "for i in range(10):\n",
    "    print(policy_qt.decay_er(i))"
   ]
  },
  {
   "cell_type": "markdown",
   "metadata": {},
   "source": [
    "## Define Experiment Function"
   ]
  },
  {
   "cell_type": "code",
   "execution_count": 7,
   "metadata": {},
   "outputs": [],
   "source": [
    "# t_max = 0 : run until done\n",
    "# t_max > 0 : run each episode for t_max steps at max\n",
    "# g_max = 0 : run until done\n",
    "# g_max > 0 : run each episode for g_max return at max\n",
    "from tqdm import trange\n",
    "import sys\n",
    "def experiment(env, policy, n_episodes=1, g_max=0, t_max=0, r_max=0, learn_mode = False, debug=False):\n",
    "\n",
    "    returns = np.zeros(shape=(n_episodes))\n",
    "    policy.learn_mode = learn_mode\n",
    "\n",
    "    for i in trange(n_episodes, file=sys.stdout, dynamic_ncols=True ):\n",
    "        #1. observe initial state\n",
    "        s = env.reset()\n",
    "\n",
    "        # initialize the counters\n",
    "        done = False\n",
    "        g = 0\n",
    "        t = 0\n",
    "        while not done:\n",
    "\n",
    "            #2. select an action, and observe the next state\n",
    "            a = policy.get_action(s)\n",
    "            s_, r, done, _ = env.step(a)\n",
    "                \n",
    "            if debug:\n",
    "                print('SARS=',s,a,r,s_, done)\n",
    "                #env.render()\n",
    "            \n",
    "            #3. update the policy internals\n",
    "            if policy.learn_mode:\n",
    "                policy.update(s,a,r,s_, done)\n",
    "\n",
    "            # set next state as current state\n",
    "            s = s_\n",
    "\n",
    "            # update the counters\n",
    "            g += r\n",
    "            t += 1\n",
    "            \n",
    "            if r_max > 0 and r >= r_max:\n",
    "                break\n",
    "            if g_max > 0 and g >= g_max:\n",
    "                break\n",
    "            if t_max > 0 and t >= t_max:\n",
    "                break\n",
    "\n",
    "        returns[i] = g\n",
    "        if debug and (i + 1) % 100 == 0:\n",
    "            print(\n",
    "                'E#={}, G= Mean:{:0.2f},Min:{:0.2f},Max:{:0.2f}'\n",
    "                .format(i+1, \n",
    "                        returns[:i].mean(),\n",
    "                        returns[:i].min(), \n",
    "                        returns[:i].max()))\n",
    "        if policy.learn_mode:\n",
    "            # decay the epsilon i.e. explore rate\n",
    "            policy.decay_er(i)\n",
    "    if n_episodes > 1:\n",
    "        print(\n",
    "            'Policy:{}, E\\'s={}, G= Mean:{:0.2f},Min:{:0.2f},Max:{:0.2f}'.\n",
    "            format(policy.__name__, n_episodes, np.mean(returns),\n",
    "                   np.min(returns), np.max(returns)))\n",
    "        plt.plot(returns)\n",
    "        plt.title('Training for environment {} with algo {}'.format(env.spec.id,policy.__name__))\n",
    "        plt.xlabel('Episode #')\n",
    "        plt.ylabel('Cumulative Rewards (G)')\n",
    "        plt.show()\n",
    "    else:\n",
    "        print('Policy:{}, G= {}'.format(policy.__name__, returns[0]))\n",
    "    return returns"
   ]
  },
  {
   "cell_type": "markdown",
   "metadata": {},
   "source": [
    "## Train and run policy for Taxi V2"
   ]
  },
  {
   "cell_type": "code",
   "execution_count": 8,
   "metadata": {
    "scrolled": false
   },
   "outputs": [
    {
     "name": "stdout",
     "output_type": "stream",
     "text": [
      "training policies\n",
      "\r",
      "  0%|          | 0/10000 [00:00<?, ?it/s]"
     ]
    },
    {
     "name": "stderr",
     "output_type": "stream",
     "text": [
      "/opt/anaconda3/lib/python3.6/site-packages/gym/envs/registration.py:14: PkgResourcesDeprecationWarning: Parameters to load are deprecated.  Call .resolve and .require separately.\n",
      "  result = entry_point.load(False)\n"
     ]
    },
    {
     "name": "stdout",
     "output_type": "stream",
     "text": [
      "100%|██████████| 10000/10000 [00:04<00:00, 2169.77it/s]\n",
      "Policy:Q_Table, E's=10000, G= Mean:0.47,Min:-803.00,Max:15.00\n"
     ]
    },
    {
     "data": {
      "image/png": "[encoded data removed]",
      "text/plain": [
       "<Figure size 432x288 with 1 Axes>"
      ]
     },
     "metadata": {
      "needs_background": "light"
     },
     "output_type": "display_data"
    },
    {
     "name": "stdout",
     "output_type": "stream",
     "text": [
      "using trained policies\n",
      "100%|██████████| 1/1 [00:00<00:00, 177.41it/s]\n",
      "Policy:random, G= -848.0\n",
      "100%|██████████| 1/1 [00:00<00:00, 746.58it/s]\n",
      "Policy:Q_Table, G= 13.0\n"
     ]
    }
   ],
   "source": [
    "env=gym.make('Taxi-v2')\n",
    "\n",
    "# remove the seeds to get random plays everytime\n",
    "np.random.seed(123)\n",
    "env.seed(123)\n",
    "\n",
    "policy_rand = policy_random(env.action_space.n)\n",
    "policy_qt = policy_q_table(env.observation_space.n,env.action_space.n)\n",
    "\n",
    "print('training policies')\n",
    "n_episodes = 10000\n",
    "returns=experiment(env,policy_qt, n_episodes, learn_mode=True)\n",
    "\n",
    "print('using trained policies')\n",
    "returns=experiment(env,policy_rand)\n",
    "returns=experiment(env,policy_qt)\n",
    "\n",
    "env.close()"
   ]
  },
  {
   "cell_type": "markdown",
   "metadata": {},
   "source": [
    "## Train and run policy for FrozenLake"
   ]
  },
  {
   "cell_type": "code",
   "execution_count": 9,
   "metadata": {},
   "outputs": [
    {
     "name": "stdout",
     "output_type": "stream",
     "text": [
      "training policies\n",
      "  2%|▏         | 314/20000 [00:00<00:06, 3138.33it/s]"
     ]
    },
    {
     "name": "stderr",
     "output_type": "stream",
     "text": [
      "/opt/anaconda3/lib/python3.6/site-packages/gym/envs/registration.py:14: PkgResourcesDeprecationWarning: Parameters to load are deprecated.  Call .resolve and .require separately.\n",
      "  result = entry_point.load(False)\n"
     ]
    },
    {
     "name": "stdout",
     "output_type": "stream",
     "text": [
      "100%|██████████| 20000/20000 [00:18<00:00, 1070.70it/s]\n",
      "Policy:Q_Table, E's=20000, G= Mean:0.43,Min:0.00,Max:1.00\n"
     ]
    },
    {
     "data": {
      "image/png": "[encoded data removed]",
      "text/plain": [
       "<Figure size 432x288 with 1 Axes>"
      ]
     },
     "metadata": {
      "needs_background": "light"
     },
     "output_type": "display_data"
    },
    {
     "name": "stdout",
     "output_type": "stream",
     "text": [
      "using trained policies\n",
      "100%|██████████| 1/1 [00:00<00:00, 1032.57it/s]\n",
      "Policy:random, G= 0.0\n",
      "100%|██████████| 1/1 [00:00<00:00, 1837.99it/s]\n",
      "Policy:Q_Table, G= 1.0\n"
     ]
    }
   ],
   "source": [
    "env=gym.make('FrozenLake-v0')\n",
    "\n",
    "# remove the seeds to get random plays everytime\n",
    "np.random.seed(123)\n",
    "env.seed(123)\n",
    "\n",
    "policy_rand = policy_random(env.action_space.n)\n",
    "policy_qt = policy_q_table(env.observation_space.n,env.action_space.n)\n",
    "\n",
    "print('training policies')\n",
    "n_episodes = 20000\n",
    "returns=experiment(env,policy_qt, n_episodes, learn_mode=True)\n",
    "\n",
    "print('using trained policies')\n",
    "\n",
    "returns=experiment(env,policy_rand)\n",
    "returns=experiment(env,policy_qt)\n",
    "\n",
    "env.close()"
   ]
  },
  {
   "cell_type": "code",
   "execution_count": null,
   "metadata": {},
   "outputs": [],
   "source": [
    "# Improve the code for calculating expected value for sotchastic policies\n",
    "#   i.e. where you have to learn probabilities of s_ for s,a\n",
    "\n",
    "# Run the code on discretized version of pong or CartPole"
   ]
  }
 ],
 "metadata": {
  "kernelspec": {
   "display_name": "Python 3",
   "language": "python",
   "name": "python3"
  },
  "language_info": {
   "codemirror_mode": {
    "name": "ipython",
    "version": 3
   },
   "file_extension": ".py",
   "mimetype": "text/x-python",
   "name": "python",
   "nbconvert_exporter": "python",
   "pygments_lexer": "ipython3",
   "version": "3.6.7"
  },
  "toc": {
   "base_numbering": 1,
   "nav_menu": {},
   "number_sections": true,
   "sideBar": true,
   "skip_h1_title": true,
   "title_cell": "Table of Contents",
   "title_sidebar": "Contents",
   "toc_cell": true,
   "toc_position": {},
   "toc_section_display": true,
   "toc_window_display": true
  }
 },
 "nbformat": 4,
 "nbformat_minor": 2
}
